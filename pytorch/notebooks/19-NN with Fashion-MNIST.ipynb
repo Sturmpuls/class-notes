{
 "cells": [
  {
   "cell_type": "markdown",
   "metadata": {},
   "source": [
    "# Classifying Fashion-MNIST\n",
    "\n",
    "Now it's your turn to build and train a neural network. You'll be using the [Fashion-MNIST dataset](https://github.com/zalandoresearch/fashion-mnist), a drop-in replacement for the MNIST dataset. MNIST is actually quite trivial with neural networks where you can easily achieve better than 97% accuracy. Fashion-MNIST is a set of 28x28 greyscale images of clothes. It's more complex than MNIST, so it's a better representation of the actual performance of your network, and a better representation of datasets you'll use in the real world.\n",
    "\n",
    "<img src='assets/fashion-mnist-sprite.png' width=500px>\n",
    "\n",
    "In this notebook, you'll build your own neural network. For the most part, you could just copy and paste the code from Part 3, but you wouldn't be learning. It's important for you to write the code yourself and get it to work. Feel free to consult the previous notebooks though as you work through this.\n",
    "\n",
    "First off, let's load the dataset through torchvision."
   ]
  },
  {
   "cell_type": "code",
   "execution_count": 27,
   "metadata": {},
   "outputs": [],
   "source": [
    "import torch\n",
    "from torchvision import datasets, transforms\n",
    "import helper\n",
    "\n",
    "# Define a transform to normalize the data\n",
    "transform = transforms.Compose([transforms.ToTensor(),\n",
    "                                transforms.Normalize((0.5, 0.5, 0.5), (0.5, 0.5, 0.5))])\n",
    "# Download and load the training data\n",
    "trainset = datasets.FashionMNIST('~/.pytorch/F_MNIST_data/', download=True, train=True, transform=transform)\n",
    "trainloader = torch.utils.data.DataLoader(trainset, batch_size=64, shuffle=True)\n",
    "\n",
    "# Download and load the test data\n",
    "testset = datasets.FashionMNIST('~/.pytorch/F_MNIST_data/', download=True, train=False, transform=transform)\n",
    "testloader = torch.utils.data.DataLoader(testset, batch_size=64, shuffle=True)"
   ]
  },
  {
   "cell_type": "markdown",
   "metadata": {},
   "source": [
    "Here we can see one of the images."
   ]
  },
  {
   "cell_type": "code",
   "execution_count": 11,
   "metadata": {},
   "outputs": [
    {
     "data": {
      "image/png": "[encoded data removed]",
      "text/plain": [
       "<matplotlib.figure.Figure at 0x7f44450a3710>"
      ]
     },
     "metadata": {
      "needs_background": "light"
     },
     "output_type": "display_data"
    }
   ],
   "source": [
    "image, label = next(iter(trainloader))\n",
    "helper.imshow(image[0,:]);"
   ]
  },
  {
   "cell_type": "markdown",
   "metadata": {},
   "source": [
    "## Building the network\n",
    "\n",
    "Here you should define your network. As with MNIST, each image is 28x28 which is a total of 784 pixels, and there are 10 classes. You should include at least one hidden layer. We suggest you use ReLU activations for the layers and to return the logits or log-softmax from the forward pass. It's up to you how many layers you add and the size of those layers."
   ]
  },
  {
   "cell_type": "markdown",
   "metadata": {},
   "source": [
    "#### Solution 1 for implementing the model"
   ]
  },
  {
   "cell_type": "code",
   "execution_count": 70,
   "metadata": {},
   "outputs": [],
   "source": [
    "# TODO: Define your network architecture here\n",
    "from torch import nn, optim\n",
    "\n",
    "model = nn.Sequential(nn.Linear(784, 400),\n",
    "                      nn.ReLU(),\n",
    "                      nn.Linear(400, 10),\n",
    "                      nn.LogSoftmax(dim=1))"
   ]
  },
  {
   "cell_type": "markdown",
   "metadata": {},
   "source": [
    "#### Solution 2 for implementing the model"
   ]
  },
  {
   "cell_type": "code",
   "execution_count": 74,
   "metadata": {},
   "outputs": [],
   "source": [
    "import torch.nn.functional as F\n",
    "from torch import nn, optim\n",
    "\n",
    "class Network(nn.Module):\n",
    "    def __init__(self):\n",
    "        super().__init__()\n",
    "        self.f1 = nn.Linear(784, 400)\n",
    "        self.f2 = nn.Linear(400, 10)\n",
    "\n",
    "    def forward(self, x):\n",
    "        # Adjust shape automatically\n",
    "        x = x.view(x.shape[0], -1)\n",
    "        \n",
    "        # Do the forward pass\n",
    "        x = F.relu(self.f1(x))\n",
    "        x = F.log_softmax(self.f2(x, dim=1))\n",
    "        \n",
    "        return x"
   ]
  },
  {
   "cell_type": "markdown",
   "metadata": {},
   "source": [
    "# Train the network\n",
    "\n",
    "Now you should create your network and train it. First you'll want to define [the criterion](http://pytorch.org/docs/master/nn.html#loss-functions) ( something like `nn.CrossEntropyLoss`) and [the optimizer](http://pytorch.org/docs/master/optim.html) (typically `optim.SGD` or `optim.Adam`).\n",
    "\n",
    "Then write the training code. Remember the training pass is a fairly straightforward process:\n",
    "\n",
    "* Make a forward pass through the network to get the logits \n",
    "* Use the logits to calculate the loss\n",
    "* Perform a backward pass through the network with `loss.backward()` to calculate the gradients\n",
    "* Take a step with the optimizer to update the weights\n",
    "\n",
    "By adjusting the hyperparameters (hidden units, learning rate, etc), you should be able to get the training loss below 0.4."
   ]
  },
  {
   "cell_type": "markdown",
   "metadata": {},
   "source": [
    "#### How to choose a network architecture\n",
    "[Two helpful answers on Datascience.StackExchange](https://datascience.stackexchange.com/questions/22199/what-are-the-default-values-of-nodes-and-internal-layers-in-neural-network-model/22289?newreg=37970945851d41f4bb4b3880455a9b5f)\n",
    "\n",
    "[Helpful insights on NN design on Stats.StackExchange](https://stats.stackexchange.com/q/181/303178)\n",
    "\n",
    "> Apparently there is almost never a reason to use a NN with more than one hidden layer.\n",
    "\n",
    "> A NN with two hidden layers can represent functions with any kind of shape.\n",
    "\n",
    "> If you choose one hidden layer and the number of Neurons as the mean of the input neurons and output neurons your model should be decent.\n",
    "\n",
    "> In general, after the basic architecture decision you should focus on using regularization and pruning to improve your model.\n",
    "\n",
    "**[Choose number of neurons to prevent overfitting](https://stats.stackexchange.com/a/136542/303178)**\n",
    "\n",
    "There's one additional rule of thumb that helps for supervised learning problems. You can usually prevent over-fitting if you keep your number of neurons below:\n",
    "$$N_h = \\frac{N_s} {(\\alpha * (N_i + N_o))}$$\n",
    "\n",
    "$N_i$ = number of input neurons.   \n",
    "$N_o$ = number of output neurons.  \n",
    "$N_s$ = number of samples in training data set.  \n",
    "$\\alpha$ = an arbitrary scaling factor usually 2-10.  \n",
    "                   \n",
    "[Others recommend](http://www.solver.com/training-artificial-neural-network-intro) setting $alpha$ to a value between 5 and 10, but I find a value of 2 will often work without overfitting. You can think of alpha as the effective branching factor or number of nonzero weights for each neuron. Dropout layers will bring the \"effective\" branching factor way down from the actual mean branching factor for your network.\n",
    "\n",
    "As explained by this [excellent NN Design text](http://hagan.okstate.edu/NNDesign.pdf#page=469), you want to limit the number of free parameters in your model (its [degree](https://stats.stackexchange.com/q/57027/15974) or number of nonzero weights) to a small portion of the degrees of freedom in your data. The degrees of freedom in your data is the number samples * degrees of freedom (dimensions) in each sample or $N_s * (N_i + N_o)$ (assuming they're all independent). So $\\alpha$ is a way to indicate how general you want your model to be, or how much you want to prevent overfitting.\n",
    "\n",
    "For an automated procedure you'd start with an alpha of 2 (twice as many degrees of freedom in your training data as your model) and work your way up to 10 if the error (loss) for your training dataset is significantly smaller than for your test dataset.\n"
   ]
  },
  {
   "cell_type": "code",
   "execution_count": 71,
   "metadata": {},
   "outputs": [],
   "source": [
    "# TODO: Create the network, define the criterion and optimizer\n",
    "from torch import optim\n",
    "\n",
    "criterion = nn.NLLLoss()\n",
    "optimizer = optim.SGD(model.parameters(), lr=0.01, momentum=0.9)"
   ]
  },
  {
   "cell_type": "code",
   "execution_count": 72,
   "metadata": {},
   "outputs": [
    {
     "name": "stdout",
     "output_type": "stream",
     "text": [
      "Epoch 1, Loss: 486.2116942256689\n",
      "Epoch 2, Loss: 359.74932196736336\n",
      "Epoch 3, Loss: 325.61565738916397\n",
      "Epoch 4, Loss: 300.9364540427923\n",
      "Epoch 5, Loss: 281.93112441152334\n",
      "Epoch 6, Loss: 266.90624471753836\n",
      "Epoch 7, Loss: 255.85140361636877\n",
      "Epoch 8, Loss: 240.47307977825403\n",
      "Epoch 9, Loss: 232.97322003543377\n",
      "Epoch 10, Loss: 224.2706679403782\n",
      "Epoch 11, Loss: 217.42446222901344\n",
      "Epoch 12, Loss: 208.29887482523918\n",
      "Epoch 13, Loss: 200.15905310213566\n",
      "Epoch 14, Loss: 193.98286356031895\n",
      "Epoch 15, Loss: 187.9294614493847\n",
      "Epoch 16, Loss: 180.4437223561108\n",
      "Epoch 17, Loss: 172.86457792669535\n",
      "Epoch 18, Loss: 165.59678498655558\n",
      "Epoch 19, Loss: 162.49872126430273\n",
      "Epoch 20, Loss: 156.10482139140368\n",
      "Epoch 21, Loss: 153.69497208856046\n",
      "Epoch 22, Loss: 148.4639249369502\n",
      "Epoch 23, Loss: 143.05672120302916\n",
      "Epoch 24, Loss: 137.17382421158254\n",
      "Epoch 25, Loss: 132.7833027523011\n",
      "Epoch 26, Loss: 131.18710041046143\n",
      "Epoch 27, Loss: 124.44796534627676\n",
      "Epoch 28, Loss: 120.5242502130568\n",
      "Epoch 29, Loss: 114.00963395275176\n",
      "Epoch 30, Loss: 109.00003008916974\n",
      "Epoch 31, Loss: 106.42563654668629\n",
      "Epoch 32, Loss: 103.98391201160848\n",
      "Epoch 33, Loss: 99.81318287272006\n",
      "Epoch 34, Loss: 96.19220714271069\n",
      "Epoch 35, Loss: 92.69657069630921\n",
      "Epoch 36, Loss: 89.46435963641852\n",
      "Epoch 37, Loss: 86.19256264064461\n",
      "Epoch 38, Loss: 86.9508683476597\n",
      "Epoch 39, Loss: 83.23549716267735\n",
      "Epoch 40, Loss: 80.34884011000395\n",
      "Epoch 41, Loss: 74.80007656477392\n",
      "Epoch 42, Loss: 72.2847158620134\n",
      "Epoch 43, Loss: 70.46250122971833\n",
      "Epoch 44, Loss: 71.14166814624332\n",
      "Epoch 45, Loss: 66.92851601773873\n",
      "Epoch 46, Loss: 62.78296585055068\n",
      "Epoch 47, Loss: 63.267173590138555\n",
      "Epoch 48, Loss: 57.21251549618319\n",
      "Epoch 49, Loss: 57.969440705142915\n",
      "Epoch 50, Loss: 55.39118112670258\n"
     ]
    }
   ],
   "source": [
    "# TODO: Train the network here\n",
    "epochs = 50\n",
    "\n",
    "for i in range(1, epochs+1):\n",
    "    running_loss = 0\n",
    "    for images, labels in trainloader:\n",
    "        images = images.view(images.shape[0],-1)\n",
    "\n",
    "        optimizer.zero_grad()\n",
    "\n",
    "        output = model.forward(images)\n",
    "        loss = criterion(output, labels)\n",
    "        loss.backward()\n",
    "        optimizer.step()\n",
    "        \n",
    "        running_loss += loss.item()\n",
    "    else:\n",
    "        print(f'Epoch {i}, Loss: {running_loss}')\n"
   ]
  },
  {
   "cell_type": "code",
   "execution_count": 68,
   "metadata": {},
   "outputs": [
    {
     "data": {
      "image/png": "[encoded data removed]",
      "text/plain": [
       "<matplotlib.figure.Figure at 0x7f44473f76d8>"
      ]
     },
     "metadata": {
      "image/png": {
       "height": 204,
       "width": 423
      },
      "needs_background": "light"
     },
     "output_type": "display_data"
    }
   ],
   "source": [
    "%matplotlib inline\n",
    "%config InlineBackend.figure_format = 'retina'\n",
    "\n",
    "import helper\n",
    "\n",
    "# Test out your network!\n",
    "\n",
    "dataiter = iter(testloader)\n",
    "images, labels = dataiter.next()\n",
    "img = images[0]\n",
    "# Convert 2D image to 1D vector\n",
    "img = img.resize_(1, 784)\n",
    "\n",
    "# TODO: Calculate the class probabilities (softmax) for img\n",
    "with torch.no_grad():\n",
    "    ps = torch.exp(model(img))  # model(img) is a shortcut for model.forward(img)\n",
    "\n",
    "# Plot the image and probabilities\n",
    "helper.view_classify(img.resize_(1, 28, 28), ps, version='Fashion')"
   ]
  }
 ],
 "metadata": {
  "kernelspec": {
   "display_name": "Python 3",
   "language": "python",
   "name": "python3"
  },
  "language_info": {
   "codemirror_mode": {
    "name": "ipython",
    "version": 3
   },
   "file_extension": ".py",
   "mimetype": "text/x-python",
   "name": "python",
   "nbconvert_exporter": "python",
   "pygments_lexer": "ipython3",
   "version": "3.6.3"
  }
 },
 "nbformat": 4,
 "nbformat_minor": 2
}
